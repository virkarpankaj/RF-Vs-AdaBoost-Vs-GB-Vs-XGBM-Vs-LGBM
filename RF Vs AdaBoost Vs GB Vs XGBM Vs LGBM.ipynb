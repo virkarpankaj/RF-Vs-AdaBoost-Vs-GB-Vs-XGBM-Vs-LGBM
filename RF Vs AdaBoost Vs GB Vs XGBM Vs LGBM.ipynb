{
 "cells": [
  {
   "cell_type": "code",
   "execution_count": 1,
   "id": "a1c6cd9d",
   "metadata": {},
   "outputs": [],
   "source": [
    "import pandas as pd\n",
    "import numpy as np\n",
    "\n",
    "import matplotlib.pyplot as plt\n",
    "%matplotlib inline\n",
    "\n",
    "import seaborn as sns\n",
    "sns.set()"
   ]
  },
  {
   "cell_type": "code",
   "execution_count": 3,
   "id": "44338b56",
   "metadata": {},
   "outputs": [],
   "source": [
    "from sklearn.ensemble import GradientBoostingClassifier,AdaBoostClassifier,RandomForestClassifier\n",
    "\n",
    "from sklearn.metrics import accuracy_score, precision_score, recall_score, confusion_matrix\n",
    "\n",
    "from sklearn.model_selection import train_test_split, KFold,cross_val_score\n",
    "\n",
    "from sklearn.preprocessing import LabelEncoder\n"
   ]
  },
  {
   "cell_type": "code",
   "execution_count": 5,
   "id": "087e8a21",
   "metadata": {},
   "outputs": [
    {
     "name": "stdout",
     "output_type": "stream",
     "text": [
      "Collecting lightgbm\n",
      "  Downloading lightgbm-3.3.2-py3-none-win_amd64.whl (1.0 MB)\n",
      "Requirement already satisfied: numpy in c:\\users\\virka\\anaconda3\\lib\\site-packages (from lightgbm) (1.20.3)\n",
      "Requirement already satisfied: scikit-learn!=0.22.0 in c:\\users\\virka\\anaconda3\\lib\\site-packages (from lightgbm) (1.0.2)\n",
      "Requirement already satisfied: wheel in c:\\users\\virka\\anaconda3\\lib\\site-packages (from lightgbm) (0.37.0)\n",
      "Requirement already satisfied: scipy in c:\\users\\virka\\anaconda3\\lib\\site-packages (from lightgbm) (1.7.1)\n",
      "Requirement already satisfied: threadpoolctl>=2.0.0 in c:\\users\\virka\\anaconda3\\lib\\site-packages (from scikit-learn!=0.22.0->lightgbm) (2.2.0)\n",
      "Requirement already satisfied: joblib>=0.11 in c:\\users\\virka\\anaconda3\\lib\\site-packages (from scikit-learn!=0.22.0->lightgbm) (1.1.0)\n",
      "Installing collected packages: lightgbm\n",
      "Successfully installed lightgbm-3.3.2\n"
     ]
    }
   ],
   "source": [
    "!pip install lightgbm"
   ]
  },
  {
   "cell_type": "code",
   "execution_count": 6,
   "id": "0d71278a",
   "metadata": {},
   "outputs": [],
   "source": [
    "import lightgbm as lgb\n",
    "import xgboost as xgb\n",
    "\n",
    "from xgboost import XGBClassifier\n",
    "from lightgbm import LGBMClassifier"
   ]
  },
  {
   "cell_type": "code",
   "execution_count": 7,
   "id": "f75ea944",
   "metadata": {},
   "outputs": [],
   "source": [
    "import warnings\n",
    "warnings.filterwarnings('ignore')"
   ]
  },
  {
   "cell_type": "code",
   "execution_count": 8,
   "id": "ba0bfe0e",
   "metadata": {},
   "outputs": [
    {
     "data": {
      "text/html": [
       "<div>\n",
       "<style scoped>\n",
       "    .dataframe tbody tr th:only-of-type {\n",
       "        vertical-align: middle;\n",
       "    }\n",
       "\n",
       "    .dataframe tbody tr th {\n",
       "        vertical-align: top;\n",
       "    }\n",
       "\n",
       "    .dataframe thead th {\n",
       "        text-align: right;\n",
       "    }\n",
       "</style>\n",
       "<table border=\"1\" class=\"dataframe\">\n",
       "  <thead>\n",
       "    <tr style=\"text-align: right;\">\n",
       "      <th></th>\n",
       "      <th>ID</th>\n",
       "      <th>LIMIT_BAL</th>\n",
       "      <th>SEX</th>\n",
       "      <th>EDUCATION</th>\n",
       "      <th>MARRIAGE</th>\n",
       "      <th>AGE</th>\n",
       "      <th>PAY_1</th>\n",
       "      <th>PAY_2</th>\n",
       "      <th>PAY_3</th>\n",
       "      <th>PAY_4</th>\n",
       "      <th>...</th>\n",
       "      <th>BILL_AMT4</th>\n",
       "      <th>BILL_AMT5</th>\n",
       "      <th>BILL_AMT6</th>\n",
       "      <th>PAY_AMT1</th>\n",
       "      <th>PAY_AMT2</th>\n",
       "      <th>PAY_AMT3</th>\n",
       "      <th>PAY_AMT4</th>\n",
       "      <th>PAY_AMT5</th>\n",
       "      <th>PAY_AMT6</th>\n",
       "      <th>DEFAULT</th>\n",
       "    </tr>\n",
       "  </thead>\n",
       "  <tbody>\n",
       "    <tr>\n",
       "      <th>0</th>\n",
       "      <td>1</td>\n",
       "      <td>20000.0</td>\n",
       "      <td>female</td>\n",
       "      <td>university</td>\n",
       "      <td>married</td>\n",
       "      <td>24</td>\n",
       "      <td>2</td>\n",
       "      <td>2</td>\n",
       "      <td>-1</td>\n",
       "      <td>-1</td>\n",
       "      <td>...</td>\n",
       "      <td>0.0</td>\n",
       "      <td>0.0</td>\n",
       "      <td>0.0</td>\n",
       "      <td>0.0</td>\n",
       "      <td>689.0</td>\n",
       "      <td>0.0</td>\n",
       "      <td>0.0</td>\n",
       "      <td>0.0</td>\n",
       "      <td>0.0</td>\n",
       "      <td>1</td>\n",
       "    </tr>\n",
       "    <tr>\n",
       "      <th>1</th>\n",
       "      <td>2</td>\n",
       "      <td>120000.0</td>\n",
       "      <td>female</td>\n",
       "      <td>university</td>\n",
       "      <td>single</td>\n",
       "      <td>26</td>\n",
       "      <td>-1</td>\n",
       "      <td>2</td>\n",
       "      <td>0</td>\n",
       "      <td>0</td>\n",
       "      <td>...</td>\n",
       "      <td>3272.0</td>\n",
       "      <td>3455.0</td>\n",
       "      <td>3261.0</td>\n",
       "      <td>0.0</td>\n",
       "      <td>1000.0</td>\n",
       "      <td>1000.0</td>\n",
       "      <td>1000.0</td>\n",
       "      <td>0.0</td>\n",
       "      <td>2000.0</td>\n",
       "      <td>1</td>\n",
       "    </tr>\n",
       "    <tr>\n",
       "      <th>2</th>\n",
       "      <td>3</td>\n",
       "      <td>90000.0</td>\n",
       "      <td>female</td>\n",
       "      <td>university</td>\n",
       "      <td>single</td>\n",
       "      <td>34</td>\n",
       "      <td>0</td>\n",
       "      <td>0</td>\n",
       "      <td>0</td>\n",
       "      <td>0</td>\n",
       "      <td>...</td>\n",
       "      <td>14331.0</td>\n",
       "      <td>14948.0</td>\n",
       "      <td>15549.0</td>\n",
       "      <td>1518.0</td>\n",
       "      <td>1500.0</td>\n",
       "      <td>1000.0</td>\n",
       "      <td>1000.0</td>\n",
       "      <td>1000.0</td>\n",
       "      <td>5000.0</td>\n",
       "      <td>0</td>\n",
       "    </tr>\n",
       "    <tr>\n",
       "      <th>3</th>\n",
       "      <td>4</td>\n",
       "      <td>50000.0</td>\n",
       "      <td>female</td>\n",
       "      <td>university</td>\n",
       "      <td>married</td>\n",
       "      <td>37</td>\n",
       "      <td>0</td>\n",
       "      <td>0</td>\n",
       "      <td>0</td>\n",
       "      <td>0</td>\n",
       "      <td>...</td>\n",
       "      <td>28314.0</td>\n",
       "      <td>28959.0</td>\n",
       "      <td>29547.0</td>\n",
       "      <td>2000.0</td>\n",
       "      <td>2019.0</td>\n",
       "      <td>1200.0</td>\n",
       "      <td>1100.0</td>\n",
       "      <td>1069.0</td>\n",
       "      <td>1000.0</td>\n",
       "      <td>0</td>\n",
       "    </tr>\n",
       "    <tr>\n",
       "      <th>4</th>\n",
       "      <td>5</td>\n",
       "      <td>50000.0</td>\n",
       "      <td>male</td>\n",
       "      <td>university</td>\n",
       "      <td>married</td>\n",
       "      <td>57</td>\n",
       "      <td>-1</td>\n",
       "      <td>0</td>\n",
       "      <td>-1</td>\n",
       "      <td>0</td>\n",
       "      <td>...</td>\n",
       "      <td>20940.0</td>\n",
       "      <td>19146.0</td>\n",
       "      <td>19131.0</td>\n",
       "      <td>2000.0</td>\n",
       "      <td>36681.0</td>\n",
       "      <td>10000.0</td>\n",
       "      <td>9000.0</td>\n",
       "      <td>689.0</td>\n",
       "      <td>679.0</td>\n",
       "      <td>0</td>\n",
       "    </tr>\n",
       "    <tr>\n",
       "      <th>...</th>\n",
       "      <td>...</td>\n",
       "      <td>...</td>\n",
       "      <td>...</td>\n",
       "      <td>...</td>\n",
       "      <td>...</td>\n",
       "      <td>...</td>\n",
       "      <td>...</td>\n",
       "      <td>...</td>\n",
       "      <td>...</td>\n",
       "      <td>...</td>\n",
       "      <td>...</td>\n",
       "      <td>...</td>\n",
       "      <td>...</td>\n",
       "      <td>...</td>\n",
       "      <td>...</td>\n",
       "      <td>...</td>\n",
       "      <td>...</td>\n",
       "      <td>...</td>\n",
       "      <td>...</td>\n",
       "      <td>...</td>\n",
       "      <td>...</td>\n",
       "    </tr>\n",
       "    <tr>\n",
       "      <th>29995</th>\n",
       "      <td>29996</td>\n",
       "      <td>220000.0</td>\n",
       "      <td>male</td>\n",
       "      <td>highschool</td>\n",
       "      <td>married</td>\n",
       "      <td>39</td>\n",
       "      <td>0</td>\n",
       "      <td>0</td>\n",
       "      <td>0</td>\n",
       "      <td>0</td>\n",
       "      <td>...</td>\n",
       "      <td>88004.0</td>\n",
       "      <td>31237.0</td>\n",
       "      <td>15980.0</td>\n",
       "      <td>8500.0</td>\n",
       "      <td>20000.0</td>\n",
       "      <td>5003.0</td>\n",
       "      <td>3047.0</td>\n",
       "      <td>5000.0</td>\n",
       "      <td>1000.0</td>\n",
       "      <td>0</td>\n",
       "    </tr>\n",
       "    <tr>\n",
       "      <th>29996</th>\n",
       "      <td>29997</td>\n",
       "      <td>150000.0</td>\n",
       "      <td>male</td>\n",
       "      <td>highschool</td>\n",
       "      <td>single</td>\n",
       "      <td>43</td>\n",
       "      <td>-1</td>\n",
       "      <td>-1</td>\n",
       "      <td>-1</td>\n",
       "      <td>-1</td>\n",
       "      <td>...</td>\n",
       "      <td>8979.0</td>\n",
       "      <td>5190.0</td>\n",
       "      <td>0.0</td>\n",
       "      <td>1837.0</td>\n",
       "      <td>3526.0</td>\n",
       "      <td>8998.0</td>\n",
       "      <td>129.0</td>\n",
       "      <td>0.0</td>\n",
       "      <td>0.0</td>\n",
       "      <td>0</td>\n",
       "    </tr>\n",
       "    <tr>\n",
       "      <th>29997</th>\n",
       "      <td>29998</td>\n",
       "      <td>30000.0</td>\n",
       "      <td>male</td>\n",
       "      <td>university</td>\n",
       "      <td>single</td>\n",
       "      <td>37</td>\n",
       "      <td>4</td>\n",
       "      <td>3</td>\n",
       "      <td>2</td>\n",
       "      <td>-1</td>\n",
       "      <td>...</td>\n",
       "      <td>20878.0</td>\n",
       "      <td>20582.0</td>\n",
       "      <td>19357.0</td>\n",
       "      <td>0.0</td>\n",
       "      <td>0.0</td>\n",
       "      <td>22000.0</td>\n",
       "      <td>4200.0</td>\n",
       "      <td>2000.0</td>\n",
       "      <td>3100.0</td>\n",
       "      <td>1</td>\n",
       "    </tr>\n",
       "    <tr>\n",
       "      <th>29998</th>\n",
       "      <td>29999</td>\n",
       "      <td>80000.0</td>\n",
       "      <td>male</td>\n",
       "      <td>highschool</td>\n",
       "      <td>married</td>\n",
       "      <td>41</td>\n",
       "      <td>1</td>\n",
       "      <td>-1</td>\n",
       "      <td>0</td>\n",
       "      <td>0</td>\n",
       "      <td>...</td>\n",
       "      <td>52774.0</td>\n",
       "      <td>11855.0</td>\n",
       "      <td>48944.0</td>\n",
       "      <td>85900.0</td>\n",
       "      <td>3409.0</td>\n",
       "      <td>1178.0</td>\n",
       "      <td>1926.0</td>\n",
       "      <td>52964.0</td>\n",
       "      <td>1804.0</td>\n",
       "      <td>1</td>\n",
       "    </tr>\n",
       "    <tr>\n",
       "      <th>29999</th>\n",
       "      <td>30000</td>\n",
       "      <td>50000.0</td>\n",
       "      <td>male</td>\n",
       "      <td>university</td>\n",
       "      <td>married</td>\n",
       "      <td>46</td>\n",
       "      <td>0</td>\n",
       "      <td>0</td>\n",
       "      <td>0</td>\n",
       "      <td>0</td>\n",
       "      <td>...</td>\n",
       "      <td>36535.0</td>\n",
       "      <td>32428.0</td>\n",
       "      <td>15313.0</td>\n",
       "      <td>2078.0</td>\n",
       "      <td>1800.0</td>\n",
       "      <td>1430.0</td>\n",
       "      <td>1000.0</td>\n",
       "      <td>1000.0</td>\n",
       "      <td>1000.0</td>\n",
       "      <td>1</td>\n",
       "    </tr>\n",
       "  </tbody>\n",
       "</table>\n",
       "<p>30000 rows × 25 columns</p>\n",
       "</div>"
      ],
      "text/plain": [
       "          ID  LIMIT_BAL     SEX   EDUCATION MARRIAGE  AGE  PAY_1  PAY_2  \\\n",
       "0          1    20000.0  female  university  married   24      2      2   \n",
       "1          2   120000.0  female  university   single   26     -1      2   \n",
       "2          3    90000.0  female  university   single   34      0      0   \n",
       "3          4    50000.0  female  university  married   37      0      0   \n",
       "4          5    50000.0    male  university  married   57     -1      0   \n",
       "...      ...        ...     ...         ...      ...  ...    ...    ...   \n",
       "29995  29996   220000.0    male  highschool  married   39      0      0   \n",
       "29996  29997   150000.0    male  highschool   single   43     -1     -1   \n",
       "29997  29998    30000.0    male  university   single   37      4      3   \n",
       "29998  29999    80000.0    male  highschool  married   41      1     -1   \n",
       "29999  30000    50000.0    male  university  married   46      0      0   \n",
       "\n",
       "       PAY_3  PAY_4  ...  BILL_AMT4  BILL_AMT5  BILL_AMT6  PAY_AMT1  PAY_AMT2  \\\n",
       "0         -1     -1  ...        0.0        0.0        0.0       0.0     689.0   \n",
       "1          0      0  ...     3272.0     3455.0     3261.0       0.0    1000.0   \n",
       "2          0      0  ...    14331.0    14948.0    15549.0    1518.0    1500.0   \n",
       "3          0      0  ...    28314.0    28959.0    29547.0    2000.0    2019.0   \n",
       "4         -1      0  ...    20940.0    19146.0    19131.0    2000.0   36681.0   \n",
       "...      ...    ...  ...        ...        ...        ...       ...       ...   \n",
       "29995      0      0  ...    88004.0    31237.0    15980.0    8500.0   20000.0   \n",
       "29996     -1     -1  ...     8979.0     5190.0        0.0    1837.0    3526.0   \n",
       "29997      2     -1  ...    20878.0    20582.0    19357.0       0.0       0.0   \n",
       "29998      0      0  ...    52774.0    11855.0    48944.0   85900.0    3409.0   \n",
       "29999      0      0  ...    36535.0    32428.0    15313.0    2078.0    1800.0   \n",
       "\n",
       "       PAY_AMT3  PAY_AMT4  PAY_AMT5  PAY_AMT6  DEFAULT  \n",
       "0           0.0       0.0       0.0       0.0        1  \n",
       "1        1000.0    1000.0       0.0    2000.0        1  \n",
       "2        1000.0    1000.0    1000.0    5000.0        0  \n",
       "3        1200.0    1100.0    1069.0    1000.0        0  \n",
       "4       10000.0    9000.0     689.0     679.0        0  \n",
       "...         ...       ...       ...       ...      ...  \n",
       "29995    5003.0    3047.0    5000.0    1000.0        0  \n",
       "29996    8998.0     129.0       0.0       0.0        0  \n",
       "29997   22000.0    4200.0    2000.0    3100.0        1  \n",
       "29998    1178.0    1926.0   52964.0    1804.0        1  \n",
       "29999    1430.0    1000.0    1000.0    1000.0        1  \n",
       "\n",
       "[30000 rows x 25 columns]"
      ]
     },
     "execution_count": 8,
     "metadata": {},
     "output_type": "execute_result"
    }
   ],
   "source": [
    "credit_data = pd.read_csv('credit_card_clean.csv')\n",
    "credit_data"
   ]
  },
  {
   "cell_type": "code",
   "execution_count": 9,
   "id": "37f28f9c",
   "metadata": {},
   "outputs": [
    {
     "name": "stdout",
     "output_type": "stream",
     "text": [
      "<class 'pandas.core.frame.DataFrame'>\n",
      "RangeIndex: 30000 entries, 0 to 29999\n",
      "Data columns (total 25 columns):\n",
      " #   Column     Non-Null Count  Dtype  \n",
      "---  ------     --------------  -----  \n",
      " 0   ID         30000 non-null  int64  \n",
      " 1   LIMIT_BAL  30000 non-null  float64\n",
      " 2   SEX        30000 non-null  object \n",
      " 3   EDUCATION  30000 non-null  object \n",
      " 4   MARRIAGE   30000 non-null  object \n",
      " 5   AGE        30000 non-null  int64  \n",
      " 6   PAY_1      30000 non-null  int64  \n",
      " 7   PAY_2      30000 non-null  int64  \n",
      " 8   PAY_3      30000 non-null  int64  \n",
      " 9   PAY_4      30000 non-null  int64  \n",
      " 10  PAY_5      30000 non-null  int64  \n",
      " 11  PAY_6      30000 non-null  int64  \n",
      " 12  BILL_AMT1  30000 non-null  float64\n",
      " 13  BILL_AMT2  30000 non-null  float64\n",
      " 14  BILL_AMT3  30000 non-null  float64\n",
      " 15  BILL_AMT4  30000 non-null  float64\n",
      " 16  BILL_AMT5  30000 non-null  float64\n",
      " 17  BILL_AMT6  30000 non-null  float64\n",
      " 18  PAY_AMT1   30000 non-null  float64\n",
      " 19  PAY_AMT2   30000 non-null  float64\n",
      " 20  PAY_AMT3   30000 non-null  float64\n",
      " 21  PAY_AMT4   30000 non-null  float64\n",
      " 22  PAY_AMT5   30000 non-null  float64\n",
      " 23  PAY_AMT6   30000 non-null  float64\n",
      " 24  DEFAULT    30000 non-null  int64  \n",
      "dtypes: float64(13), int64(9), object(3)\n",
      "memory usage: 5.7+ MB\n"
     ]
    }
   ],
   "source": [
    "credit_data.info()"
   ]
  },
  {
   "cell_type": "code",
   "execution_count": 11,
   "id": "bd0d8c0a",
   "metadata": {},
   "outputs": [],
   "source": [
    "label = LabelEncoder()\n",
    "\n",
    "object_list = ['SEX','EDUCATION','MARRIAGE' ]\n",
    "\n",
    "for i in object_list:\n",
    "    credit_data[i] = label.fit_transform(credit_data[i])\n",
    "    "
   ]
  },
  {
   "cell_type": "code",
   "execution_count": null,
   "id": "ddb8e62c",
   "metadata": {},
   "outputs": [],
   "source": [
    "credit_data.drop('ID',axis = 1, inplace=True)"
   ]
  },
  {
   "cell_type": "code",
   "execution_count": 12,
   "id": "98f23242",
   "metadata": {},
   "outputs": [],
   "source": [
    "X = credit_data.iloc[:,1:-1]\n",
    "y = credit_data.iloc[:,-1]"
   ]
  },
  {
   "cell_type": "code",
   "execution_count": 13,
   "id": "38485a7f",
   "metadata": {},
   "outputs": [],
   "source": [
    "X_train, X_test, y_train, y_test = train_test_split(X,y, test_size=0.2, stratify=y, shuffle=True, random_state=12)"
   ]
  },
  {
   "cell_type": "code",
   "execution_count": 15,
   "id": "a63bda32",
   "metadata": {},
   "outputs": [
    {
     "name": "stdout",
     "output_type": "stream",
     "text": [
      "0    18691\n",
      "1     5309\n",
      "Name: DEFAULT, dtype: int64\n"
     ]
    },
    {
     "data": {
      "text/plain": [
       "<AxesSubplot:ylabel='DEFAULT'>"
      ]
     },
     "execution_count": 15,
     "metadata": {},
     "output_type": "execute_result"
    },
    {
     "data": {
      "image/png": "[encoded data removed]",
      "text/plain": [
       "<Figure size 432x288 with 1 Axes>"
      ]
     },
     "metadata": {},
     "output_type": "display_data"
    }
   ],
   "source": [
    "print(y_train.value_counts())\n",
    "\n",
    "y_train.value_counts().plot.pie(autopct = '%0.2f%%')"
   ]
  },
  {
   "cell_type": "code",
   "execution_count": 16,
   "id": "f6cc46ae",
   "metadata": {},
   "outputs": [
    {
     "name": "stdout",
     "output_type": "stream",
     "text": [
      "0    4673\n",
      "1    1327\n",
      "Name: DEFAULT, dtype: int64\n"
     ]
    },
    {
     "data": {
      "text/plain": [
       "<AxesSubplot:ylabel='DEFAULT'>"
      ]
     },
     "execution_count": 16,
     "metadata": {},
     "output_type": "execute_result"
    },
    {
     "data": {
      "image/png": "[encoded data removed]",
      "text/plain": [
       "<Figure size 432x288 with 1 Axes>"
      ]
     },
     "metadata": {},
     "output_type": "display_data"
    }
   ],
   "source": [
    "print(y_test.value_counts())\n",
    "\n",
    "y_test.value_counts().plot.pie(autopct = '%0.2f%%')"
   ]
  },
  {
   "cell_type": "code",
   "execution_count": null,
   "id": "5e8daf1a",
   "metadata": {},
   "outputs": [],
   "source": []
  },
  {
   "cell_type": "markdown",
   "id": "8f35f034",
   "metadata": {},
   "source": [
    "### Model Building"
   ]
  },
  {
   "cell_type": "code",
   "execution_count": 14,
   "id": "1e05638c",
   "metadata": {},
   "outputs": [],
   "source": [
    "rf_classifier  = RandomForestClassifier()\n",
    "adb_classifier = AdaBoostClassifier()\n",
    "gb_classifier  = GradientBoostingClassifier()\n",
    "xgb_classifier = XGBClassifier()\n",
    "lgb_classifier = LGBMClassifier()"
   ]
  },
  {
   "cell_type": "code",
   "execution_count": 17,
   "id": "7853ecf5",
   "metadata": {},
   "outputs": [
    {
     "name": "stdout",
     "output_type": "stream",
     "text": [
      "Wall time: 6.35 s\n"
     ]
    },
    {
     "data": {
      "text/plain": [
       "RandomForestClassifier()"
      ]
     },
     "execution_count": 17,
     "metadata": {},
     "output_type": "execute_result"
    }
   ],
   "source": [
    "%%time\n",
    "rf_classifier.fit(X_train,y_train)"
   ]
  },
  {
   "cell_type": "code",
   "execution_count": 18,
   "id": "d66c0cae",
   "metadata": {},
   "outputs": [
    {
     "name": "stdout",
     "output_type": "stream",
     "text": [
      "Wall time: 2.17 s\n"
     ]
    },
    {
     "data": {
      "text/plain": [
       "AdaBoostClassifier()"
      ]
     },
     "execution_count": 18,
     "metadata": {},
     "output_type": "execute_result"
    }
   ],
   "source": [
    "%%time\n",
    "adb_classifier.fit(X_train,y_train)"
   ]
  },
  {
   "cell_type": "code",
   "execution_count": 19,
   "id": "55e39b81",
   "metadata": {},
   "outputs": [
    {
     "name": "stdout",
     "output_type": "stream",
     "text": [
      "Wall time: 8.49 s\n"
     ]
    },
    {
     "data": {
      "text/plain": [
       "GradientBoostingClassifier()"
      ]
     },
     "execution_count": 19,
     "metadata": {},
     "output_type": "execute_result"
    }
   ],
   "source": [
    "%%time\n",
    "gb_classifier.fit(X_train,y_train)"
   ]
  },
  {
   "cell_type": "code",
   "execution_count": 20,
   "id": "72941e5e",
   "metadata": {
    "scrolled": true
   },
   "outputs": [
    {
     "name": "stdout",
     "output_type": "stream",
     "text": [
      "[20:55:31] WARNING: C:/Users/Administrator/workspace/xgboost-win64_release_1.5.1/src/learner.cc:1115: Starting in XGBoost 1.3.0, the default evaluation metric used with the objective 'binary:logistic' was changed from 'error' to 'logloss'. Explicitly set eval_metric if you'd like to restore the old behavior.\n",
      "Wall time: 1.36 s\n"
     ]
    },
    {
     "data": {
      "text/plain": [
       "XGBClassifier(base_score=0.5, booster='gbtree', colsample_bylevel=1,\n",
       "              colsample_bynode=1, colsample_bytree=1, enable_categorical=False,\n",
       "              gamma=0, gpu_id=-1, importance_type=None,\n",
       "              interaction_constraints='', learning_rate=0.300000012,\n",
       "              max_delta_step=0, max_depth=6, min_child_weight=1, missing=nan,\n",
       "              monotone_constraints='()', n_estimators=100, n_jobs=8,\n",
       "              num_parallel_tree=1, predictor='auto', random_state=0,\n",
       "              reg_alpha=0, reg_lambda=1, scale_pos_weight=1, subsample=1,\n",
       "              tree_method='exact', validate_parameters=1, verbosity=None)"
      ]
     },
     "execution_count": 20,
     "metadata": {},
     "output_type": "execute_result"
    }
   ],
   "source": [
    "%%time\n",
    "xgb_classifier.fit(X_train,y_train)"
   ]
  },
  {
   "cell_type": "code",
   "execution_count": 21,
   "id": "b9222660",
   "metadata": {},
   "outputs": [
    {
     "name": "stdout",
     "output_type": "stream",
     "text": [
      "Wall time: 187 ms\n"
     ]
    },
    {
     "data": {
      "text/plain": [
       "LGBMClassifier()"
      ]
     },
     "execution_count": 21,
     "metadata": {},
     "output_type": "execute_result"
    }
   ],
   "source": [
    "%%time\n",
    "lgb_classifier.fit(X_train,y_train)"
   ]
  },
  {
   "cell_type": "markdown",
   "id": "377943f5",
   "metadata": {},
   "source": [
    "###  Model Testing"
   ]
  },
  {
   "cell_type": "code",
   "execution_count": 22,
   "id": "4c24e97f",
   "metadata": {},
   "outputs": [],
   "source": [
    "y_pred_rf  = rf_classifier.predict(X_test)\n",
    "y_pred_ab  = adb_classifier.predict(X_test)\n",
    "y_pred_gb  = gb_classifier.predict(X_test)\n",
    "y_pred_xgb = xgb_classifier.predict(X_test)\n",
    "y_pred_lgb = lgb_classifier.predict(X_test)"
   ]
  },
  {
   "cell_type": "markdown",
   "id": "74fcc99b",
   "metadata": {
    "heading_collapsed": true
   },
   "source": [
    "###  Model Evaluation"
   ]
  },
  {
   "cell_type": "markdown",
   "id": "20f7f1d7",
   "metadata": {
    "hidden": true
   },
   "source": [
    "#### Random Forest Performance"
   ]
  },
  {
   "cell_type": "code",
   "execution_count": 23,
   "id": "1bc4797c",
   "metadata": {
    "hidden": true
   },
   "outputs": [
    {
     "name": "stdout",
     "output_type": "stream",
     "text": [
      "Accuracy Score  :  0.8185\n",
      "Precision Score :  0.6587\n",
      "Recall Score    :  0.3723\n",
      "Confusion Matrix:\n",
      " [[4417  256]\n",
      " [ 833  494]]\n"
     ]
    }
   ],
   "source": [
    "print('Accuracy Score  : ', round(accuracy_score(y_test,y_pred_rf),4))\n",
    "print('Precision Score : ', round(precision_score(y_test,y_pred_rf),4))\n",
    "print('Recall Score    : ', round(recall_score(y_test,y_pred_rf),4))\n",
    "print('Confusion Matrix:\\n',confusion_matrix(y_test,y_pred_rf))"
   ]
  },
  {
   "cell_type": "markdown",
   "id": "d049b42c",
   "metadata": {
    "hidden": true
   },
   "source": [
    "#### AdaBoost Performace"
   ]
  },
  {
   "cell_type": "code",
   "execution_count": 24,
   "id": "f22d7233",
   "metadata": {
    "hidden": true
   },
   "outputs": [
    {
     "name": "stdout",
     "output_type": "stream",
     "text": [
      "Accuracy Score  :  0.8192\n",
      "Precision Score :  0.6927\n",
      "Recall Score    :  0.3278\n",
      "Confusion Matrix:\n",
      " [[4480  193]\n",
      " [ 892  435]]\n"
     ]
    }
   ],
   "source": [
    "print('Accuracy Score  : ', round(accuracy_score(y_test,y_pred_ab),4))\n",
    "print('Precision Score : ', round(precision_score(y_test,y_pred_ab),4))\n",
    "print('Recall Score    : ', round(recall_score(y_test,y_pred_ab),4))\n",
    "print('Confusion Matrix:\\n',confusion_matrix(y_test,y_pred_ab))"
   ]
  },
  {
   "cell_type": "markdown",
   "id": "da53ec37",
   "metadata": {
    "hidden": true
   },
   "source": [
    "#### GB Performace"
   ]
  },
  {
   "cell_type": "code",
   "execution_count": 25,
   "id": "b3c59fc1",
   "metadata": {
    "hidden": true
   },
   "outputs": [
    {
     "name": "stdout",
     "output_type": "stream",
     "text": [
      "Accuracy Score  :  0.8248\n",
      "Precision Score :  0.696\n",
      "Recall Score    :  0.3693\n",
      "Confusion Matrix:\n",
      " [[4459  214]\n",
      " [ 837  490]]\n"
     ]
    }
   ],
   "source": [
    "print('Accuracy Score  : ', round(accuracy_score(y_test,y_pred_gb),4))\n",
    "print('Precision Score : ', round(precision_score(y_test,y_pred_gb),4))\n",
    "print('Recall Score    : ', round(recall_score(y_test,y_pred_gb),4))\n",
    "print('Confusion Matrix:\\n',confusion_matrix(y_test,y_pred_gb))"
   ]
  },
  {
   "cell_type": "markdown",
   "id": "4d079c82",
   "metadata": {
    "hidden": true
   },
   "source": [
    "#### XGBM Performance"
   ]
  },
  {
   "cell_type": "code",
   "execution_count": 26,
   "id": "e56b4b03",
   "metadata": {
    "hidden": true
   },
   "outputs": [
    {
     "name": "stdout",
     "output_type": "stream",
     "text": [
      "Accuracy Score  :  0.8153\n",
      "Precision Score :  0.645\n",
      "Recall Score    :  0.367\n",
      "Confusion Matrix:\n",
      " [[4405  268]\n",
      " [ 840  487]]\n"
     ]
    }
   ],
   "source": [
    "print('Accuracy Score  : ', round(accuracy_score(y_test,y_pred_xgb),4))\n",
    "print('Precision Score : ', round(precision_score(y_test,y_pred_xgb),4))\n",
    "print('Recall Score    : ', round(recall_score(y_test,y_pred_xgb),4))\n",
    "print('Confusion Matrix:\\n',confusion_matrix(y_test,y_pred_xgb))"
   ]
  },
  {
   "cell_type": "markdown",
   "id": "f54e2ac1",
   "metadata": {
    "hidden": true
   },
   "source": [
    "#### LGBM Performance"
   ]
  },
  {
   "cell_type": "code",
   "execution_count": 27,
   "id": "ea44630c",
   "metadata": {
    "hidden": true
   },
   "outputs": [
    {
     "name": "stdout",
     "output_type": "stream",
     "text": [
      "Accuracy Score  :  0.822\n",
      "Precision Score :  0.6863\n",
      "Recall Score    :  0.3595\n",
      "Confusion Matrix:\n",
      " [[4455  218]\n",
      " [ 850  477]]\n"
     ]
    }
   ],
   "source": [
    "print('Accuracy Score  : ', round(accuracy_score(y_test,y_pred_lgb),4))\n",
    "print('Precision Score : ', round(precision_score(y_test,y_pred_lgb),4))\n",
    "print('Recall Score    : ', round(recall_score(y_test,y_pred_lgb),4))\n",
    "print('Confusion Matrix:\\n',confusion_matrix(y_test,y_pred_lgb))"
   ]
  },
  {
   "cell_type": "code",
   "execution_count": null,
   "id": "b6510c45",
   "metadata": {
    "hidden": true
   },
   "outputs": [],
   "source": []
  },
  {
   "cell_type": "markdown",
   "id": "a9675319",
   "metadata": {},
   "source": [
    "# FEATURE IMPORTANCES"
   ]
  },
  {
   "cell_type": "code",
   "execution_count": 44,
   "id": "d5e35278",
   "metadata": {},
   "outputs": [],
   "source": [
    "RF_imp_Features  = rf_classifier.feature_importances_\n",
    "Ada_imp_Features = adb_classifier.feature_importances_\n",
    "GB_imp_Features  = gb_classifier.feature_importances_\n",
    "XGB_imp_Features = xgb_classifier.feature_importances_\n",
    "LGB_imp_Features = lgb_classifier.feature_importances_"
   ]
  },
  {
   "cell_type": "code",
   "execution_count": 46,
   "id": "de33192a",
   "metadata": {},
   "outputs": [],
   "source": [
    "models = [RF_imp_Features, , , , ]\n",
    "\n",
    "col = [,]"
   ]
  },
  {
   "cell_type": "code",
   "execution_count": 48,
   "id": "97b3da72",
   "metadata": {},
   "outputs": [],
   "source": [
    "Data = {'Features'        : X.columns,\n",
    "        'Random_Forest'   : RF_imp_Features,\n",
    "        'AdaBoost'        : Ada_imp_Features,\n",
    "        'GradientBoost'   : GB_imp_Features,\n",
    "        'XtremeGB'        : XGB_imp_Features,\n",
    "        'LightGB'         : LGB_imp_Features\n",
    "       }"
   ]
  },
  {
   "cell_type": "code",
   "execution_count": 49,
   "id": "893d5cdf",
   "metadata": {
    "scrolled": true
   },
   "outputs": [
    {
     "data": {
      "text/html": [
       "<div>\n",
       "<style scoped>\n",
       "    .dataframe tbody tr th:only-of-type {\n",
       "        vertical-align: middle;\n",
       "    }\n",
       "\n",
       "    .dataframe tbody tr th {\n",
       "        vertical-align: top;\n",
       "    }\n",
       "\n",
       "    .dataframe thead th {\n",
       "        text-align: right;\n",
       "    }\n",
       "</style>\n",
       "<table border=\"1\" class=\"dataframe\">\n",
       "  <thead>\n",
       "    <tr style=\"text-align: right;\">\n",
       "      <th></th>\n",
       "      <th>Features</th>\n",
       "      <th>Random_Forest</th>\n",
       "      <th>AdaBoost</th>\n",
       "      <th>GradientBoost</th>\n",
       "      <th>XtremeGB</th>\n",
       "      <th>LightGB</th>\n",
       "    </tr>\n",
       "  </thead>\n",
       "  <tbody>\n",
       "    <tr>\n",
       "      <th>0</th>\n",
       "      <td>LIMIT_BAL</td>\n",
       "      <td>0.060405</td>\n",
       "      <td>0.08</td>\n",
       "      <td>0.032723</td>\n",
       "      <td>0.024132</td>\n",
       "      <td>215</td>\n",
       "    </tr>\n",
       "    <tr>\n",
       "      <th>1</th>\n",
       "      <td>SEX</td>\n",
       "      <td>0.012732</td>\n",
       "      <td>0.02</td>\n",
       "      <td>0.002271</td>\n",
       "      <td>0.017697</td>\n",
       "      <td>35</td>\n",
       "    </tr>\n",
       "    <tr>\n",
       "      <th>2</th>\n",
       "      <td>EDUCATION</td>\n",
       "      <td>0.018142</td>\n",
       "      <td>0.00</td>\n",
       "      <td>0.002574</td>\n",
       "      <td>0.020403</td>\n",
       "      <td>64</td>\n",
       "    </tr>\n",
       "    <tr>\n",
       "      <th>3</th>\n",
       "      <td>MARRIAGE</td>\n",
       "      <td>0.013074</td>\n",
       "      <td>0.02</td>\n",
       "      <td>0.004880</td>\n",
       "      <td>0.020488</td>\n",
       "      <td>36</td>\n",
       "    </tr>\n",
       "    <tr>\n",
       "      <th>4</th>\n",
       "      <td>AGE</td>\n",
       "      <td>0.065899</td>\n",
       "      <td>0.00</td>\n",
       "      <td>0.006142</td>\n",
       "      <td>0.017460</td>\n",
       "      <td>201</td>\n",
       "    </tr>\n",
       "    <tr>\n",
       "      <th>5</th>\n",
       "      <td>PAY_1</td>\n",
       "      <td>0.092602</td>\n",
       "      <td>0.18</td>\n",
       "      <td>0.629938</td>\n",
       "      <td>0.356028</td>\n",
       "      <td>103</td>\n",
       "    </tr>\n",
       "    <tr>\n",
       "      <th>6</th>\n",
       "      <td>PAY_2</td>\n",
       "      <td>0.043572</td>\n",
       "      <td>0.06</td>\n",
       "      <td>0.083481</td>\n",
       "      <td>0.117766</td>\n",
       "      <td>44</td>\n",
       "    </tr>\n",
       "    <tr>\n",
       "      <th>7</th>\n",
       "      <td>PAY_3</td>\n",
       "      <td>0.028391</td>\n",
       "      <td>0.02</td>\n",
       "      <td>0.032262</td>\n",
       "      <td>0.049169</td>\n",
       "      <td>50</td>\n",
       "    </tr>\n",
       "    <tr>\n",
       "      <th>8</th>\n",
       "      <td>PAY_4</td>\n",
       "      <td>0.026325</td>\n",
       "      <td>0.02</td>\n",
       "      <td>0.017907</td>\n",
       "      <td>0.041508</td>\n",
       "      <td>37</td>\n",
       "    </tr>\n",
       "    <tr>\n",
       "      <th>9</th>\n",
       "      <td>PAY_5</td>\n",
       "      <td>0.021053</td>\n",
       "      <td>0.04</td>\n",
       "      <td>0.016106</td>\n",
       "      <td>0.042685</td>\n",
       "      <td>37</td>\n",
       "    </tr>\n",
       "    <tr>\n",
       "      <th>10</th>\n",
       "      <td>PAY_6</td>\n",
       "      <td>0.017738</td>\n",
       "      <td>0.02</td>\n",
       "      <td>0.018009</td>\n",
       "      <td>0.038368</td>\n",
       "      <td>69</td>\n",
       "    </tr>\n",
       "    <tr>\n",
       "      <th>11</th>\n",
       "      <td>BILL_AMT1</td>\n",
       "      <td>0.060594</td>\n",
       "      <td>0.12</td>\n",
       "      <td>0.035177</td>\n",
       "      <td>0.024950</td>\n",
       "      <td>264</td>\n",
       "    </tr>\n",
       "    <tr>\n",
       "      <th>12</th>\n",
       "      <td>BILL_AMT2</td>\n",
       "      <td>0.055599</td>\n",
       "      <td>0.02</td>\n",
       "      <td>0.009238</td>\n",
       "      <td>0.020618</td>\n",
       "      <td>132</td>\n",
       "    </tr>\n",
       "    <tr>\n",
       "      <th>13</th>\n",
       "      <td>BILL_AMT3</td>\n",
       "      <td>0.051818</td>\n",
       "      <td>0.06</td>\n",
       "      <td>0.008708</td>\n",
       "      <td>0.021075</td>\n",
       "      <td>147</td>\n",
       "    </tr>\n",
       "    <tr>\n",
       "      <th>14</th>\n",
       "      <td>BILL_AMT4</td>\n",
       "      <td>0.050878</td>\n",
       "      <td>0.06</td>\n",
       "      <td>0.006037</td>\n",
       "      <td>0.021458</td>\n",
       "      <td>154</td>\n",
       "    </tr>\n",
       "    <tr>\n",
       "      <th>15</th>\n",
       "      <td>BILL_AMT5</td>\n",
       "      <td>0.050868</td>\n",
       "      <td>0.04</td>\n",
       "      <td>0.006990</td>\n",
       "      <td>0.019262</td>\n",
       "      <td>132</td>\n",
       "    </tr>\n",
       "    <tr>\n",
       "      <th>16</th>\n",
       "      <td>BILL_AMT6</td>\n",
       "      <td>0.050321</td>\n",
       "      <td>0.00</td>\n",
       "      <td>0.006038</td>\n",
       "      <td>0.019284</td>\n",
       "      <td>171</td>\n",
       "    </tr>\n",
       "    <tr>\n",
       "      <th>17</th>\n",
       "      <td>PAY_AMT1</td>\n",
       "      <td>0.052510</td>\n",
       "      <td>0.02</td>\n",
       "      <td>0.016107</td>\n",
       "      <td>0.020551</td>\n",
       "      <td>191</td>\n",
       "    </tr>\n",
       "    <tr>\n",
       "      <th>18</th>\n",
       "      <td>PAY_AMT2</td>\n",
       "      <td>0.047480</td>\n",
       "      <td>0.06</td>\n",
       "      <td>0.019145</td>\n",
       "      <td>0.022695</td>\n",
       "      <td>181</td>\n",
       "    </tr>\n",
       "    <tr>\n",
       "      <th>19</th>\n",
       "      <td>PAY_AMT3</td>\n",
       "      <td>0.047416</td>\n",
       "      <td>0.08</td>\n",
       "      <td>0.024390</td>\n",
       "      <td>0.024963</td>\n",
       "      <td>192</td>\n",
       "    </tr>\n",
       "    <tr>\n",
       "      <th>20</th>\n",
       "      <td>PAY_AMT4</td>\n",
       "      <td>0.042154</td>\n",
       "      <td>0.04</td>\n",
       "      <td>0.006978</td>\n",
       "      <td>0.020059</td>\n",
       "      <td>164</td>\n",
       "    </tr>\n",
       "    <tr>\n",
       "      <th>21</th>\n",
       "      <td>PAY_AMT5</td>\n",
       "      <td>0.044407</td>\n",
       "      <td>0.02</td>\n",
       "      <td>0.007011</td>\n",
       "      <td>0.019935</td>\n",
       "      <td>182</td>\n",
       "    </tr>\n",
       "    <tr>\n",
       "      <th>22</th>\n",
       "      <td>PAY_AMT6</td>\n",
       "      <td>0.046022</td>\n",
       "      <td>0.02</td>\n",
       "      <td>0.007887</td>\n",
       "      <td>0.019443</td>\n",
       "      <td>199</td>\n",
       "    </tr>\n",
       "  </tbody>\n",
       "</table>\n",
       "</div>"
      ],
      "text/plain": [
       "     Features  Random_Forest  AdaBoost  GradientBoost  XtremeGB  LightGB\n",
       "0   LIMIT_BAL       0.060405      0.08       0.032723  0.024132      215\n",
       "1         SEX       0.012732      0.02       0.002271  0.017697       35\n",
       "2   EDUCATION       0.018142      0.00       0.002574  0.020403       64\n",
       "3    MARRIAGE       0.013074      0.02       0.004880  0.020488       36\n",
       "4         AGE       0.065899      0.00       0.006142  0.017460      201\n",
       "5       PAY_1       0.092602      0.18       0.629938  0.356028      103\n",
       "6       PAY_2       0.043572      0.06       0.083481  0.117766       44\n",
       "7       PAY_3       0.028391      0.02       0.032262  0.049169       50\n",
       "8       PAY_4       0.026325      0.02       0.017907  0.041508       37\n",
       "9       PAY_5       0.021053      0.04       0.016106  0.042685       37\n",
       "10      PAY_6       0.017738      0.02       0.018009  0.038368       69\n",
       "11  BILL_AMT1       0.060594      0.12       0.035177  0.024950      264\n",
       "12  BILL_AMT2       0.055599      0.02       0.009238  0.020618      132\n",
       "13  BILL_AMT3       0.051818      0.06       0.008708  0.021075      147\n",
       "14  BILL_AMT4       0.050878      0.06       0.006037  0.021458      154\n",
       "15  BILL_AMT5       0.050868      0.04       0.006990  0.019262      132\n",
       "16  BILL_AMT6       0.050321      0.00       0.006038  0.019284      171\n",
       "17   PAY_AMT1       0.052510      0.02       0.016107  0.020551      191\n",
       "18   PAY_AMT2       0.047480      0.06       0.019145  0.022695      181\n",
       "19   PAY_AMT3       0.047416      0.08       0.024390  0.024963      192\n",
       "20   PAY_AMT4       0.042154      0.04       0.006978  0.020059      164\n",
       "21   PAY_AMT5       0.044407      0.02       0.007011  0.019935      182\n",
       "22   PAY_AMT6       0.046022      0.02       0.007887  0.019443      199"
      ]
     },
     "execution_count": 49,
     "metadata": {},
     "output_type": "execute_result"
    }
   ],
   "source": [
    "feature_imp_df = pd.DataFrame(data = Data )\n",
    "feature_imp_df"
   ]
  },
  {
   "cell_type": "code",
   "execution_count": 50,
   "id": "b4a171b9",
   "metadata": {
    "scrolled": true
   },
   "outputs": [
    {
     "data": {
      "text/html": [
       "<div>\n",
       "<style scoped>\n",
       "    .dataframe tbody tr th:only-of-type {\n",
       "        vertical-align: middle;\n",
       "    }\n",
       "\n",
       "    .dataframe tbody tr th {\n",
       "        vertical-align: top;\n",
       "    }\n",
       "\n",
       "    .dataframe thead th {\n",
       "        text-align: right;\n",
       "    }\n",
       "</style>\n",
       "<table border=\"1\" class=\"dataframe\">\n",
       "  <thead>\n",
       "    <tr style=\"text-align: right;\">\n",
       "      <th></th>\n",
       "      <th>Features</th>\n",
       "      <th>Random_Forest</th>\n",
       "      <th>AdaBoost</th>\n",
       "      <th>GradientBoost</th>\n",
       "      <th>XtremeGB</th>\n",
       "      <th>LightGB</th>\n",
       "    </tr>\n",
       "  </thead>\n",
       "  <tbody>\n",
       "    <tr>\n",
       "      <th>5</th>\n",
       "      <td>PAY_1</td>\n",
       "      <td>0.092602</td>\n",
       "      <td>0.18</td>\n",
       "      <td>0.629938</td>\n",
       "      <td>0.356028</td>\n",
       "      <td>103</td>\n",
       "    </tr>\n",
       "    <tr>\n",
       "      <th>4</th>\n",
       "      <td>AGE</td>\n",
       "      <td>0.065899</td>\n",
       "      <td>0.00</td>\n",
       "      <td>0.006142</td>\n",
       "      <td>0.017460</td>\n",
       "      <td>201</td>\n",
       "    </tr>\n",
       "    <tr>\n",
       "      <th>11</th>\n",
       "      <td>BILL_AMT1</td>\n",
       "      <td>0.060594</td>\n",
       "      <td>0.12</td>\n",
       "      <td>0.035177</td>\n",
       "      <td>0.024950</td>\n",
       "      <td>264</td>\n",
       "    </tr>\n",
       "    <tr>\n",
       "      <th>0</th>\n",
       "      <td>LIMIT_BAL</td>\n",
       "      <td>0.060405</td>\n",
       "      <td>0.08</td>\n",
       "      <td>0.032723</td>\n",
       "      <td>0.024132</td>\n",
       "      <td>215</td>\n",
       "    </tr>\n",
       "    <tr>\n",
       "      <th>12</th>\n",
       "      <td>BILL_AMT2</td>\n",
       "      <td>0.055599</td>\n",
       "      <td>0.02</td>\n",
       "      <td>0.009238</td>\n",
       "      <td>0.020618</td>\n",
       "      <td>132</td>\n",
       "    </tr>\n",
       "    <tr>\n",
       "      <th>17</th>\n",
       "      <td>PAY_AMT1</td>\n",
       "      <td>0.052510</td>\n",
       "      <td>0.02</td>\n",
       "      <td>0.016107</td>\n",
       "      <td>0.020551</td>\n",
       "      <td>191</td>\n",
       "    </tr>\n",
       "    <tr>\n",
       "      <th>13</th>\n",
       "      <td>BILL_AMT3</td>\n",
       "      <td>0.051818</td>\n",
       "      <td>0.06</td>\n",
       "      <td>0.008708</td>\n",
       "      <td>0.021075</td>\n",
       "      <td>147</td>\n",
       "    </tr>\n",
       "    <tr>\n",
       "      <th>14</th>\n",
       "      <td>BILL_AMT4</td>\n",
       "      <td>0.050878</td>\n",
       "      <td>0.06</td>\n",
       "      <td>0.006037</td>\n",
       "      <td>0.021458</td>\n",
       "      <td>154</td>\n",
       "    </tr>\n",
       "    <tr>\n",
       "      <th>15</th>\n",
       "      <td>BILL_AMT5</td>\n",
       "      <td>0.050868</td>\n",
       "      <td>0.04</td>\n",
       "      <td>0.006990</td>\n",
       "      <td>0.019262</td>\n",
       "      <td>132</td>\n",
       "    </tr>\n",
       "    <tr>\n",
       "      <th>16</th>\n",
       "      <td>BILL_AMT6</td>\n",
       "      <td>0.050321</td>\n",
       "      <td>0.00</td>\n",
       "      <td>0.006038</td>\n",
       "      <td>0.019284</td>\n",
       "      <td>171</td>\n",
       "    </tr>\n",
       "    <tr>\n",
       "      <th>18</th>\n",
       "      <td>PAY_AMT2</td>\n",
       "      <td>0.047480</td>\n",
       "      <td>0.06</td>\n",
       "      <td>0.019145</td>\n",
       "      <td>0.022695</td>\n",
       "      <td>181</td>\n",
       "    </tr>\n",
       "    <tr>\n",
       "      <th>19</th>\n",
       "      <td>PAY_AMT3</td>\n",
       "      <td>0.047416</td>\n",
       "      <td>0.08</td>\n",
       "      <td>0.024390</td>\n",
       "      <td>0.024963</td>\n",
       "      <td>192</td>\n",
       "    </tr>\n",
       "    <tr>\n",
       "      <th>22</th>\n",
       "      <td>PAY_AMT6</td>\n",
       "      <td>0.046022</td>\n",
       "      <td>0.02</td>\n",
       "      <td>0.007887</td>\n",
       "      <td>0.019443</td>\n",
       "      <td>199</td>\n",
       "    </tr>\n",
       "    <tr>\n",
       "      <th>21</th>\n",
       "      <td>PAY_AMT5</td>\n",
       "      <td>0.044407</td>\n",
       "      <td>0.02</td>\n",
       "      <td>0.007011</td>\n",
       "      <td>0.019935</td>\n",
       "      <td>182</td>\n",
       "    </tr>\n",
       "    <tr>\n",
       "      <th>6</th>\n",
       "      <td>PAY_2</td>\n",
       "      <td>0.043572</td>\n",
       "      <td>0.06</td>\n",
       "      <td>0.083481</td>\n",
       "      <td>0.117766</td>\n",
       "      <td>44</td>\n",
       "    </tr>\n",
       "    <tr>\n",
       "      <th>20</th>\n",
       "      <td>PAY_AMT4</td>\n",
       "      <td>0.042154</td>\n",
       "      <td>0.04</td>\n",
       "      <td>0.006978</td>\n",
       "      <td>0.020059</td>\n",
       "      <td>164</td>\n",
       "    </tr>\n",
       "    <tr>\n",
       "      <th>7</th>\n",
       "      <td>PAY_3</td>\n",
       "      <td>0.028391</td>\n",
       "      <td>0.02</td>\n",
       "      <td>0.032262</td>\n",
       "      <td>0.049169</td>\n",
       "      <td>50</td>\n",
       "    </tr>\n",
       "    <tr>\n",
       "      <th>8</th>\n",
       "      <td>PAY_4</td>\n",
       "      <td>0.026325</td>\n",
       "      <td>0.02</td>\n",
       "      <td>0.017907</td>\n",
       "      <td>0.041508</td>\n",
       "      <td>37</td>\n",
       "    </tr>\n",
       "    <tr>\n",
       "      <th>9</th>\n",
       "      <td>PAY_5</td>\n",
       "      <td>0.021053</td>\n",
       "      <td>0.04</td>\n",
       "      <td>0.016106</td>\n",
       "      <td>0.042685</td>\n",
       "      <td>37</td>\n",
       "    </tr>\n",
       "    <tr>\n",
       "      <th>2</th>\n",
       "      <td>EDUCATION</td>\n",
       "      <td>0.018142</td>\n",
       "      <td>0.00</td>\n",
       "      <td>0.002574</td>\n",
       "      <td>0.020403</td>\n",
       "      <td>64</td>\n",
       "    </tr>\n",
       "    <tr>\n",
       "      <th>10</th>\n",
       "      <td>PAY_6</td>\n",
       "      <td>0.017738</td>\n",
       "      <td>0.02</td>\n",
       "      <td>0.018009</td>\n",
       "      <td>0.038368</td>\n",
       "      <td>69</td>\n",
       "    </tr>\n",
       "    <tr>\n",
       "      <th>3</th>\n",
       "      <td>MARRIAGE</td>\n",
       "      <td>0.013074</td>\n",
       "      <td>0.02</td>\n",
       "      <td>0.004880</td>\n",
       "      <td>0.020488</td>\n",
       "      <td>36</td>\n",
       "    </tr>\n",
       "    <tr>\n",
       "      <th>1</th>\n",
       "      <td>SEX</td>\n",
       "      <td>0.012732</td>\n",
       "      <td>0.02</td>\n",
       "      <td>0.002271</td>\n",
       "      <td>0.017697</td>\n",
       "      <td>35</td>\n",
       "    </tr>\n",
       "  </tbody>\n",
       "</table>\n",
       "</div>"
      ],
      "text/plain": [
       "     Features  Random_Forest  AdaBoost  GradientBoost  XtremeGB  LightGB\n",
       "5       PAY_1       0.092602      0.18       0.629938  0.356028      103\n",
       "4         AGE       0.065899      0.00       0.006142  0.017460      201\n",
       "11  BILL_AMT1       0.060594      0.12       0.035177  0.024950      264\n",
       "0   LIMIT_BAL       0.060405      0.08       0.032723  0.024132      215\n",
       "12  BILL_AMT2       0.055599      0.02       0.009238  0.020618      132\n",
       "17   PAY_AMT1       0.052510      0.02       0.016107  0.020551      191\n",
       "13  BILL_AMT3       0.051818      0.06       0.008708  0.021075      147\n",
       "14  BILL_AMT4       0.050878      0.06       0.006037  0.021458      154\n",
       "15  BILL_AMT5       0.050868      0.04       0.006990  0.019262      132\n",
       "16  BILL_AMT6       0.050321      0.00       0.006038  0.019284      171\n",
       "18   PAY_AMT2       0.047480      0.06       0.019145  0.022695      181\n",
       "19   PAY_AMT3       0.047416      0.08       0.024390  0.024963      192\n",
       "22   PAY_AMT6       0.046022      0.02       0.007887  0.019443      199\n",
       "21   PAY_AMT5       0.044407      0.02       0.007011  0.019935      182\n",
       "6       PAY_2       0.043572      0.06       0.083481  0.117766       44\n",
       "20   PAY_AMT4       0.042154      0.04       0.006978  0.020059      164\n",
       "7       PAY_3       0.028391      0.02       0.032262  0.049169       50\n",
       "8       PAY_4       0.026325      0.02       0.017907  0.041508       37\n",
       "9       PAY_5       0.021053      0.04       0.016106  0.042685       37\n",
       "2   EDUCATION       0.018142      0.00       0.002574  0.020403       64\n",
       "10      PAY_6       0.017738      0.02       0.018009  0.038368       69\n",
       "3    MARRIAGE       0.013074      0.02       0.004880  0.020488       36\n",
       "1         SEX       0.012732      0.02       0.002271  0.017697       35"
      ]
     },
     "execution_count": 50,
     "metadata": {},
     "output_type": "execute_result"
    }
   ],
   "source": [
    "rf_imp_features = feature_imp_df.sort_values(by = 'Random_Forest', ascending= False, axis = 0)\n",
    "\n",
    "rf_imp_features"
   ]
  },
  {
   "cell_type": "code",
   "execution_count": null,
   "id": "bb05288d",
   "metadata": {},
   "outputs": [],
   "source": []
  },
  {
   "cell_type": "code",
   "execution_count": 51,
   "id": "b781bdf8",
   "metadata": {},
   "outputs": [
    {
     "data": {
      "text/plain": [
       "<AxesSubplot:xlabel='Random_Forest', ylabel='Features'>"
      ]
     },
     "execution_count": 51,
     "metadata": {},
     "output_type": "execute_result"
    },
    {
     "data": {
      "image/png": "[encoded data removed]",
      "text/plain": [
       "<Figure size 1440x504 with 1 Axes>"
      ]
     },
     "metadata": {},
     "output_type": "display_data"
    }
   ],
   "source": [
    "plt.figure(figsize=(20,7))\n",
    "sns.barplot(feature_imp_df['Random_Forest'], feature_imp_df['Features'] )"
   ]
  },
  {
   "cell_type": "code",
   "execution_count": 56,
   "id": "9f84e4db",
   "metadata": {},
   "outputs": [
    {
     "data": {
      "text/plain": [
       "Index(['Features', 'Random_Forest', 'AdaBoost', 'GradientBoost', 'XtremeGB',\n",
       "       'LightGB'],\n",
       "      dtype='object')"
      ]
     },
     "execution_count": 56,
     "metadata": {},
     "output_type": "execute_result"
    }
   ],
   "source": [
    "feature_imp_df.columns"
   ]
  },
  {
   "cell_type": "code",
   "execution_count": 57,
   "id": "2d805d23",
   "metadata": {},
   "outputs": [
    {
     "data": {
      "image/png": "[encoded data removed]",
      "text/plain": [
       "<Figure size 1440x504 with 1 Axes>"
      ]
     },
     "metadata": {},
     "output_type": "display_data"
    },
    {
     "data": {
      "image/png": "[encoded data removed]",
      "text/plain": [
       "<Figure size 1440x504 with 1 Axes>"
      ]
     },
     "metadata": {},
     "output_type": "display_data"
    },
    {
     "data": {
      "image/png": "[encoded data removed]",
      "text/plain": [
       "<Figure size 1440x504 with 1 Axes>"
      ]
     },
     "metadata": {},
     "output_type": "display_data"
    },
    {
     "data": {
      "image/png": "[encoded data removed]",
      "text/plain": [
       "<Figure size 1440x504 with 1 Axes>"
      ]
     },
     "metadata": {},
     "output_type": "display_data"
    },
    {
     "data": {
      "image/png": "[encoded data removed]",
      "text/plain": [
       "<Figure size 1440x504 with 1 Axes>"
      ]
     },
     "metadata": {},
     "output_type": "display_data"
    }
   ],
   "source": [
    "for i in feature_imp_df.columns[1:]:\n",
    "    \n",
    "    plt.figure(figsize=(20,7))\n",
    "    sns.barplot(feature_imp_df[i], feature_imp_df['Features'] )"
   ]
  },
  {
   "cell_type": "code",
   "execution_count": null,
   "id": "2388cba8",
   "metadata": {},
   "outputs": [],
   "source": []
  },
  {
   "cell_type": "code",
   "execution_count": null,
   "id": "8d1db1dc",
   "metadata": {},
   "outputs": [],
   "source": []
  },
  {
   "cell_type": "code",
   "execution_count": null,
   "id": "36acaf1a",
   "metadata": {},
   "outputs": [],
   "source": []
  },
  {
   "cell_type": "code",
   "execution_count": null,
   "id": "95e198d5",
   "metadata": {},
   "outputs": [],
   "source": []
  },
  {
   "cell_type": "code",
   "execution_count": null,
   "id": "51600056",
   "metadata": {},
   "outputs": [],
   "source": []
  },
  {
   "cell_type": "code",
   "execution_count": null,
   "id": "c7494cfa",
   "metadata": {},
   "outputs": [],
   "source": []
  },
  {
   "cell_type": "code",
   "execution_count": null,
   "id": "f4dd2a79",
   "metadata": {},
   "outputs": [],
   "source": []
  },
  {
   "cell_type": "code",
   "execution_count": null,
   "id": "24014768",
   "metadata": {},
   "outputs": [],
   "source": []
  },
  {
   "cell_type": "code",
   "execution_count": null,
   "id": "42a0aa48",
   "metadata": {},
   "outputs": [],
   "source": []
  },
  {
   "cell_type": "code",
   "execution_count": null,
   "id": "0c320cc1",
   "metadata": {},
   "outputs": [],
   "source": []
  },
  {
   "cell_type": "code",
   "execution_count": null,
   "id": "f7c6536c",
   "metadata": {},
   "outputs": [],
   "source": []
  }
 ],
 "metadata": {
  "kernelspec": {
   "display_name": "Python 3 (ipykernel)",
   "language": "python",
   "name": "python3"
  },
  "language_info": {
   "codemirror_mode": {
    "name": "ipython",
    "version": 3
   },
   "file_extension": ".py",
   "mimetype": "text/x-python",
   "name": "python",
   "nbconvert_exporter": "python",
   "pygments_lexer": "ipython3",
   "version": "3.9.7"
  },
  "varInspector": {
   "cols": {
    "lenName": 16,
    "lenType": 16,
    "lenVar": 40
   },
   "kernels_config": {
    "python": {
     "delete_cmd_postfix": "",
     "delete_cmd_prefix": "del ",
     "library": "var_list.py",
     "varRefreshCmd": "print(var_dic_list())"
    },
    "r": {
     "delete_cmd_postfix": ") ",
     "delete_cmd_prefix": "rm(",
     "library": "var_list.r",
     "varRefreshCmd": "cat(var_dic_list()) "
    }
   },
   "types_to_exclude": [
    "module",
    "function",
    "builtin_function_or_method",
    "instance",
    "_Feature"
   ],
   "window_display": false
  }
 },
 "nbformat": 4,
 "nbformat_minor": 5
}
